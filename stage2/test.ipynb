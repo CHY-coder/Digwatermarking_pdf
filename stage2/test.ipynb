{
 "cells": [
  {
   "cell_type": "code",
   "execution_count": null,
   "outputs": [],
   "source": [
    "from sr_model import UnetGenerator"
   ],
   "metadata": {
    "collapsed": false
   },
   "id": "d97187094fe23d77"
  },
  {
   "cell_type": "code",
   "execution_count": null,
   "outputs": [],
   "source": [],
   "metadata": {
    "collapsed": false
   },
   "id": "4f093c90da8b00a0"
  },
  {
   "cell_type": "code",
   "execution_count": null,
   "outputs": [],
   "source": [],
   "metadata": {
    "collapsed": false
   },
   "id": "807fb12bd2d8950b"
  },
  {
   "cell_type": "code",
   "execution_count": null,
   "outputs": [],
   "source": [],
   "metadata": {
    "collapsed": false
   },
   "id": "643ffb70ec9c6b85"
  },
  {
   "cell_type": "code",
   "execution_count": null,
   "outputs": [],
   "source": [
    "import pydiffvg\n",
    "from torchvision import datasets\n",
    "from torchvision import transforms\n",
    "from torch.utils.data import DataLoader\n",
    "\n",
    "gamma = 1\n",
    "\n",
    "transform = transforms.Compose([\n",
    "        transforms.Resize(255),\n",
    "        transforms.CenterCrop(255),\n",
    "        transforms.ToTensor(),\n",
    "    ])\n",
    "\n",
    "train_dataset = datasets.ImageFolder(\"./data\", transform)\n",
    "target = train_dataset[0][0]\n",
    "target = target.to(pydiffvg.get_device())\n",
    "pydiffvg.imwrite(target.cpu(), 'results/a_target.png', gamma=gamma)"
   ],
   "metadata": {
    "collapsed": false
   },
   "id": "33975e85f6da5099"
  },
  {
   "cell_type": "code",
   "execution_count": null,
   "outputs": [],
   "source": [
    "train_dataset"
   ],
   "metadata": {
    "collapsed": false
   },
   "id": "1fcec683d787f949"
  },
  {
   "cell_type": "code",
   "execution_count": null,
   "outputs": [],
   "source": [
    "train_dataset[0][1]"
   ],
   "metadata": {
    "collapsed": false
   },
   "id": "4882f3e59211ddf"
  },
  {
   "cell_type": "code",
   "execution_count": null,
   "outputs": [],
   "source": [
    "train_dataset[0][0].shape"
   ],
   "metadata": {
    "collapsed": false
   },
   "id": "684a5d0c76556c86"
  },
  {
   "cell_type": "code",
   "execution_count": null,
   "outputs": [],
   "source": [
    "for batch in train_dataset:\n",
    "    print(type(batch))\n",
    "    x,message = batch\n",
    "    print(x.shape)\n",
    "    print(message)\n",
    "    break"
   ],
   "metadata": {
    "collapsed": false
   },
   "id": "e8af62c1baf38611"
  },
  {
   "cell_type": "code",
   "execution_count": null,
   "outputs": [],
   "source": [
    "test_img = train_dataset[0][0]"
   ],
   "metadata": {
    "collapsed": false
   },
   "id": "b236ae0a1915315b"
  },
  {
   "cell_type": "code",
   "execution_count": null,
   "outputs": [],
   "source": [
    "test_img.shape"
   ],
   "metadata": {
    "collapsed": false
   },
   "id": "e61108a746e58663"
  },
  {
   "cell_type": "code",
   "execution_count": null,
   "outputs": [],
   "source": [
    "target = test_img.unsqueeze(0)\n",
    "target.shape"
   ],
   "metadata": {
    "collapsed": false
   },
   "id": "91cd2c53fda9c680"
  },
  {
   "cell_type": "code",
   "execution_count": null,
   "outputs": [],
   "source": [
    "print(test_img.shape)\n",
    "pydiffvg.imwrite(test_img.cpu(), f'results/refine_svg/test_img:{test_img.shape}.png', gamma=gamma)"
   ],
   "metadata": {
    "collapsed": false
   },
   "id": "4ae15f886414179f"
  },
  {
   "cell_type": "code",
   "execution_count": null,
   "outputs": [],
   "source": [],
   "metadata": {
    "collapsed": false
   },
   "id": "f06d9f295ec548b7"
  },
  {
   "cell_type": "code",
   "execution_count": null,
   "outputs": [],
   "source": [
    "import pydiffvg\n",
    "import torch\n",
    "\n",
    "gamma = 1.0\n",
    "pydiffvg.set_device(torch.device('cuda:0'))\n",
    "\n",
    "#svg转img_tensor\n",
    "canvas_width, canvas_height, shapes, shape_groups = \\\n",
    "        pydiffvg.svg_to_scene(\"/home/chenzhe/a_py_project/Digwatermark/stage2/results/painterly_rendering/iter_199.svg\")\n",
    "scene_args = pydiffvg.RenderFunction.serialize_scene(\\\n",
    "        canvas_width, canvas_height, shapes, shape_groups)\n",
    "render = pydiffvg.RenderFunction.apply\n",
    "img = render(canvas_width, # width\n",
    "             canvas_height, # height\n",
    "             2,   # num_samples_x\n",
    "             2,   # num_samples_y\n",
    "             0,   # seed\n",
    "             None, # bg\n",
    "             *scene_args)\n",
    "\n",
    "pydiffvg.imwrite(img.cpu(), 'results/show.png', gamma=gamma)"
   ],
   "metadata": {
    "collapsed": false
   },
   "id": "d0749ca7558b11d8"
  },
  {
   "cell_type": "code",
   "execution_count": null,
   "outputs": [],
   "source": [
    "scene_args"
   ],
   "metadata": {
    "collapsed": false
   },
   "id": "950ec0e15e40b40e"
  },
  {
   "cell_type": "code",
   "execution_count": null,
   "outputs": [],
   "source": [
    "points_vars = []\n",
    "color_vars = {}\n",
    "for path in shapes:\n",
    "    path.points.requires_grad = True\n",
    "    points_vars.append(path.points)\n",
    "for group in shape_groups:\n",
    "    group.fill_color.requires_grad = True\n",
    "    color_vars[group.fill_color.data_ptr()] = group.fill_color\n",
    "color_vars = list(color_vars.values())"
   ],
   "metadata": {
    "collapsed": false
   },
   "id": "f4f35317e0bb51a7"
  },
  {
   "cell_type": "code",
   "execution_count": null,
   "outputs": [],
   "source": [
    "type(points_vars)"
   ],
   "metadata": {
    "collapsed": false
   },
   "id": "6122dad5af1fd764"
  },
  {
   "cell_type": "code",
   "execution_count": null,
   "outputs": [],
   "source": [
    "print(img.shape)\n",
    "pydiffvg.imwrite(img.cpu(), f'results/refine_svg/svg_img:{img.shape}.png', gamma=gamma)"
   ],
   "metadata": {
    "collapsed": false
   },
   "id": "2f60abf1bef8ae08"
  },
  {
   "cell_type": "code",
   "execution_count": null,
   "outputs": [],
   "source": [
    "img = img[:, :, 3:4] * img[:, :, :3] + torch.ones(img.shape[0], img.shape[1], 3, device = pydiffvg.get_device()) * (1 - img[:, :, 3:4])"
   ],
   "metadata": {
    "collapsed": false
   },
   "id": "9620742327319d46"
  },
  {
   "cell_type": "code",
   "execution_count": null,
   "outputs": [],
   "source": [
    "img.shape"
   ],
   "metadata": {
    "collapsed": false
   },
   "id": "7ec6c2e1185850e1"
  },
  {
   "cell_type": "code",
   "execution_count": null,
   "outputs": [],
   "source": [
    "print(img.shape)\n",
    "pydiffvg.imwrite(img.cpu(), f'results/refine_svg/svg_img:{img.shape}.png', gamma=gamma)"
   ],
   "metadata": {
    "collapsed": false
   },
   "id": "fe114d22d28b4787"
  },
  {
   "cell_type": "code",
   "execution_count": null,
   "outputs": [],
   "source": [
    "img = img[:, :, :3]\n",
    "img = img.unsqueeze(0)\n",
    "img = img.permute(0, 3, 1, 2) # NHWC -> NCHW\n",
    "# img = img.permute(2,0,1)\n"
   ],
   "metadata": {
    "collapsed": false
   },
   "id": "c852d9b23d1c8142"
  },
  {
   "cell_type": "code",
   "execution_count": null,
   "outputs": [],
   "source": [
    "img.shape"
   ],
   "metadata": {
    "collapsed": false
   },
   "id": "ca41b93aa2cdc860"
  },
  {
   "cell_type": "code",
   "execution_count": null,
   "outputs": [],
   "source": [
    "print(img.shape)\n",
    "pydiffvg.imwrite(img.cpu(), f'results/refine_svg/svg_img:{img.shape}.png', gamma=gamma)"
   ],
   "metadata": {
    "collapsed": false
   },
   "id": "aa6ef0cf6b9cbfa6"
  }
 ],
 "metadata": {
  "kernelspec": {
   "display_name": "Python 3",
   "language": "python",
   "name": "python3"
  },
  "language_info": {
   "codemirror_mode": {
    "name": "ipython",
    "version": 2
   },
   "file_extension": ".py",
   "mimetype": "text/x-python",
   "name": "python",
   "nbconvert_exporter": "python",
   "pygments_lexer": "ipython2",
   "version": "2.7.6"
  }
 },
 "nbformat": 4,
 "nbformat_minor": 5
}
